{
  "nbformat": 4,
  "nbformat_minor": 0,
  "metadata": {
    "kernelspec": {
      "name": "python3",
      "display_name": "Python 3"
    },
    "language_info": {
      "codemirror_mode": {
        "name": "ipython",
        "version": 3
      },
      "file_extension": ".py",
      "mimetype": "text/x-python",
      "name": "python",
      "nbconvert_exporter": "python",
      "pygments_lexer": "ipython3",
      "version": "3.6.6"
    },
    "colab": {
      "name": "EVA_S8_V1.ipynb",
      "provenance": [],
      "collapsed_sections": []
    },
    "accelerator": "GPU"
  },
  "cells": [
    {
      "cell_type": "code",
      "metadata": {
        "id": "-yVpodAMpoCi",
        "colab_type": "code",
        "colab": {}
      },
      "source": [
        "import torch\n",
        "import torchvision\n",
        "import torch.nn as nn\n",
        "%matplotlib inline\n",
        "import torchvision.transforms as transforms\n",
        "import torch.nn.functional as F\n"
      ],
      "execution_count": 0,
      "outputs": []
    },
    {
      "cell_type": "code",
      "metadata": {
        "id": "F9SP2vOtRgQC",
        "colab_type": "code",
        "colab": {
          "base_uri": "https://localhost:8080/",
          "height": 272
        },
        "outputId": "6a4337d7-1c9b-4556-fae3-8aedbaaf1ac0"
      },
      "source": [
        "from google.colab import auth                    # Other necessary packages\n",
        "from oauth2client.client import GoogleCredentials\n",
        "!pip install pydrive                             # Package to use Google Drive API - not installed in Colab VM by default\n",
        "from pydrive.auth import GoogleAuth\n",
        "from pydrive.drive import GoogleDrive\n"
      ],
      "execution_count": 2,
      "outputs": [
        {
          "output_type": "stream",
          "text": [
            "Requirement already satisfied: pydrive in /usr/local/lib/python3.6/dist-packages (1.3.1)\n",
            "Requirement already satisfied: PyYAML>=3.0 in /usr/local/lib/python3.6/dist-packages (from pydrive) (3.13)\n",
            "Requirement already satisfied: google-api-python-client>=1.2 in /usr/local/lib/python3.6/dist-packages (from pydrive) (1.7.12)\n",
            "Requirement already satisfied: oauth2client>=4.0.0 in /usr/local/lib/python3.6/dist-packages (from pydrive) (4.1.3)\n",
            "Requirement already satisfied: google-auth-httplib2>=0.0.3 in /usr/local/lib/python3.6/dist-packages (from google-api-python-client>=1.2->pydrive) (0.0.3)\n",
            "Requirement already satisfied: httplib2<1dev,>=0.17.0 in /usr/local/lib/python3.6/dist-packages (from google-api-python-client>=1.2->pydrive) (0.17.3)\n",
            "Requirement already satisfied: google-auth>=1.4.1 in /usr/local/lib/python3.6/dist-packages (from google-api-python-client>=1.2->pydrive) (1.7.2)\n",
            "Requirement already satisfied: uritemplate<4dev,>=3.0.0 in /usr/local/lib/python3.6/dist-packages (from google-api-python-client>=1.2->pydrive) (3.0.1)\n",
            "Requirement already satisfied: six<2dev,>=1.6.1 in /usr/local/lib/python3.6/dist-packages (from google-api-python-client>=1.2->pydrive) (1.12.0)\n",
            "Requirement already satisfied: rsa>=3.1.4 in /usr/local/lib/python3.6/dist-packages (from oauth2client>=4.0.0->pydrive) (4.0)\n",
            "Requirement already satisfied: pyasn1-modules>=0.0.5 in /usr/local/lib/python3.6/dist-packages (from oauth2client>=4.0.0->pydrive) (0.2.8)\n",
            "Requirement already satisfied: pyasn1>=0.1.7 in /usr/local/lib/python3.6/dist-packages (from oauth2client>=4.0.0->pydrive) (0.4.8)\n",
            "Requirement already satisfied: setuptools>=40.3.0 in /usr/local/lib/python3.6/dist-packages (from google-auth>=1.4.1->google-api-python-client>=1.2->pydrive) (46.3.0)\n",
            "Requirement already satisfied: cachetools<3.2,>=2.0.0 in /usr/local/lib/python3.6/dist-packages (from google-auth>=1.4.1->google-api-python-client>=1.2->pydrive) (3.1.1)\n"
          ],
          "name": "stdout"
        }
      ]
    },
    {
      "cell_type": "code",
      "metadata": {
        "id": "HrHFXFenRW9k",
        "colab_type": "code",
        "colab": {}
      },
      "source": [
        "\n",
        "auth.authenticate_user()                         # Follow prompt in the authorization process\n",
        "gauth = GoogleAuth()\n",
        "gauth.credentials = GoogleCredentials.get_application_default()"
      ],
      "execution_count": 0,
      "outputs": []
    },
    {
      "cell_type": "code",
      "metadata": {
        "id": "8jj57A7LRuu0",
        "colab_type": "code",
        "colab": {}
      },
      "source": [
        "drive = GoogleDrive(gauth)\n",
        "your_module = drive.CreateFile({'id':'1fa_1WEGElTsJutK4IseCifM2joFgIADF'})\n",
        "your_module.GetContentFile(\"Data_Loader_V4.py\")\n",
        "\n"
      ],
      "execution_count": 0,
      "outputs": []
    },
    {
      "cell_type": "code",
      "metadata": {
        "id": "D8Tjigo2poCl",
        "colab_type": "code",
        "outputId": "4ccaa338-6ab0-43e6-a31c-5e6589abcf51",
        "colab": {
          "base_uri": "https://localhost:8080/",
          "height": 50
        }
      },
      "source": [
        "from Data_Loader_V4 import Load_data\n",
        "#Load_data()\n",
        "transform, trainset, trainloader, testset, testloader, classes=Load_data()"
      ],
      "execution_count": 5,
      "outputs": [
        {
          "output_type": "stream",
          "text": [
            "Files already downloaded and verified\n",
            "Files already downloaded and verified\n"
          ],
          "name": "stdout"
        }
      ]
    },
    {
      "cell_type": "markdown",
      "metadata": {
        "id": "_cj433rtpoCn",
        "colab_type": "text"
      },
      "source": [
        "Let us show some of the training images, for fun.\n",
        "\n"
      ]
    },
    {
      "cell_type": "code",
      "metadata": {
        "id": "daA7bADhpoCo",
        "colab_type": "code",
        "outputId": "14f24940-6bbc-498a-d64b-9ff6f83982d1",
        "colab": {
          "base_uri": "https://localhost:8080/",
          "height": 155
        }
      },
      "source": [
        "import matplotlib.pyplot as plt\n",
        "import numpy as np\n",
        "\n",
        "# functions to show an image\n",
        "\n",
        "\n",
        "def imshow(img):\n",
        "    img = img / 2 + 0.5     # unnormalize\n",
        "    npimg = img.numpy()\n",
        "    plt.imshow(np.transpose(npimg, (1, 2, 0)))\n",
        "\n",
        "\n",
        "# get some random training images\n",
        "dataiter = iter(trainloader)\n",
        "images, labels = dataiter.next()\n",
        "\n",
        "# show images\n",
        "imshow(torchvision.utils.make_grid(images))\n",
        "# print labels\n",
        "print(' '.join('%5s' % classes[labels[j]] for j in range(4)))"
      ],
      "execution_count": 6,
      "outputs": [
        {
          "output_type": "stream",
          "text": [
            " bird  frog   car   dog\n"
          ],
          "name": "stdout"
        },
        {
          "output_type": "display_data",
          "data": {
            "image/png": "[encoded data removed]",
            "text/plain": [
              "<Figure size 432x288 with 1 Axes>"
            ]
          },
          "metadata": {
            "tags": [],
            "needs_background": "light"
          }
        }
      ]
    },
    {
      "cell_type": "code",
      "metadata": {
        "id": "ub2I7XURb_iI",
        "colab_type": "code",
        "colab": {}
      },
      "source": [
        "\n",
        "your_module = drive.CreateFile({'id':'1NcG59OKEy2Djc85XijRqMNwuZjU7GUlL'})\n",
        "\n",
        "your_module.GetContentFile(\"Model_architecture_resnet.py\")\n"
      ],
      "execution_count": 0,
      "outputs": []
    },
    {
      "cell_type": "markdown",
      "metadata": {
        "id": "28OpHA_LpoCq",
        "colab_type": "text"
      },
      "source": [
        "2. Define a Convolution Neural Network\n",
        "^^^^^^^^^^^^^^^^^^^^^^^^^^^^^^^^^^^^^^\n",
        "Copy the neural network from the Neural Networks section before and modify it to\n",
        "take 3-channel images (instead of 1-channel images as it was defined).\n",
        "\n"
      ]
    },
    {
      "cell_type": "code",
      "metadata": {
        "id": "0jjLwLLQpoCr",
        "colab_type": "code",
        "colab": {}
      },
      "source": [
        "import Model_architecture_resnet #import ResNet "
      ],
      "execution_count": 0,
      "outputs": []
    },
    {
      "cell_type": "code",
      "metadata": {
        "id": "XmL9ZwhR1nCY",
        "colab_type": "code",
        "colab": {}
      },
      "source": [
        ""
      ],
      "execution_count": 0,
      "outputs": []
    },
    {
      "cell_type": "code",
      "metadata": {
        "id": "sh1c3Yx0lzsY",
        "colab_type": "code",
        "outputId": "e2b7452e-004d-4dbd-af09-26b899ac1735",
        "colab": {
          "base_uri": "https://localhost:8080/",
          "height": 1000
        }
      },
      "source": [
        "!pip install torchsummary\n",
        "from torchsummary import summary\n",
        "use_cuda = torch.cuda.is_available()\n",
        "device = torch.device(\"cuda\" if use_cuda else \"cpu\")\n",
        "model = Model_architecture_resnet.ResNet18().to(device)\n",
        "summary(model, input_size=(3, 32, 32))"
      ],
      "execution_count": 16,
      "outputs": [
        {
          "output_type": "stream",
          "text": [
            "Requirement already satisfied: torchsummary in /usr/local/lib/python3.6/dist-packages (1.5.1)\n",
            "----------------------------------------------------------------\n",
            "        Layer (type)               Output Shape         Param #\n",
            "================================================================\n",
            "            Conv2d-1           [-1, 64, 32, 32]           1,728\n",
            "       BatchNorm2d-2           [-1, 64, 32, 32]             128\n",
            "            Conv2d-3           [-1, 64, 32, 32]          36,864\n",
            "       BatchNorm2d-4           [-1, 64, 32, 32]             128\n",
            "            Conv2d-5           [-1, 64, 32, 32]          36,864\n",
            "       BatchNorm2d-6           [-1, 64, 32, 32]             128\n",
            "        BasicBlock-7           [-1, 64, 32, 32]               0\n",
            "            Conv2d-8           [-1, 64, 32, 32]          36,864\n",
            "       BatchNorm2d-9           [-1, 64, 32, 32]             128\n",
            "           Conv2d-10           [-1, 64, 32, 32]          36,864\n",
            "      BatchNorm2d-11           [-1, 64, 32, 32]             128\n",
            "       BasicBlock-12           [-1, 64, 32, 32]               0\n",
            "           Conv2d-13          [-1, 128, 16, 16]          73,728\n",
            "      BatchNorm2d-14          [-1, 128, 16, 16]             256\n",
            "           Conv2d-15          [-1, 128, 16, 16]         147,456\n",
            "      BatchNorm2d-16          [-1, 128, 16, 16]             256\n",
            "           Conv2d-17          [-1, 128, 16, 16]           8,192\n",
            "      BatchNorm2d-18          [-1, 128, 16, 16]             256\n",
            "       BasicBlock-19          [-1, 128, 16, 16]               0\n",
            "           Conv2d-20          [-1, 128, 16, 16]         147,456\n",
            "      BatchNorm2d-21          [-1, 128, 16, 16]             256\n",
            "           Conv2d-22          [-1, 128, 16, 16]         147,456\n",
            "      BatchNorm2d-23          [-1, 128, 16, 16]             256\n",
            "       BasicBlock-24          [-1, 128, 16, 16]               0\n",
            "           Conv2d-25            [-1, 256, 8, 8]         294,912\n",
            "      BatchNorm2d-26            [-1, 256, 8, 8]             512\n",
            "           Conv2d-27            [-1, 256, 8, 8]         589,824\n",
            "      BatchNorm2d-28            [-1, 256, 8, 8]             512\n",
            "           Conv2d-29            [-1, 256, 8, 8]          32,768\n",
            "      BatchNorm2d-30            [-1, 256, 8, 8]             512\n",
            "       BasicBlock-31            [-1, 256, 8, 8]               0\n",
            "           Conv2d-32            [-1, 256, 8, 8]         589,824\n",
            "      BatchNorm2d-33            [-1, 256, 8, 8]             512\n",
            "           Conv2d-34            [-1, 256, 8, 8]         589,824\n",
            "      BatchNorm2d-35            [-1, 256, 8, 8]             512\n",
            "       BasicBlock-36            [-1, 256, 8, 8]               0\n",
            "           Conv2d-37            [-1, 512, 4, 4]       1,179,648\n",
            "      BatchNorm2d-38            [-1, 512, 4, 4]           1,024\n",
            "           Conv2d-39            [-1, 512, 4, 4]       2,359,296\n",
            "      BatchNorm2d-40            [-1, 512, 4, 4]           1,024\n",
            "           Conv2d-41            [-1, 512, 4, 4]         131,072\n",
            "      BatchNorm2d-42            [-1, 512, 4, 4]           1,024\n",
            "       BasicBlock-43            [-1, 512, 4, 4]               0\n",
            "           Conv2d-44            [-1, 512, 4, 4]       2,359,296\n",
            "      BatchNorm2d-45            [-1, 512, 4, 4]           1,024\n",
            "           Conv2d-46            [-1, 512, 4, 4]       2,359,296\n",
            "      BatchNorm2d-47            [-1, 512, 4, 4]           1,024\n",
            "       BasicBlock-48            [-1, 512, 4, 4]               0\n",
            "           Linear-49                   [-1, 10]           5,130\n",
            "================================================================\n",
            "Total params: 11,173,962\n",
            "Trainable params: 11,173,962\n",
            "Non-trainable params: 0\n",
            "----------------------------------------------------------------\n",
            "Input size (MB): 0.01\n",
            "Forward/backward pass size (MB): 11.25\n",
            "Params size (MB): 42.63\n",
            "Estimated Total Size (MB): 53.89\n",
            "----------------------------------------------------------------\n"
          ],
          "name": "stdout"
        }
      ]
    },
    {
      "cell_type": "markdown",
      "metadata": {
        "id": "Wdw2NNCUpoCu",
        "colab_type": "text"
      },
      "source": [
        "3. Define a Loss function and optimizer\n",
        "^^^^^^^^^^^^^^^^^^^^^^^^^^^^^^^^^^^^^^^\n",
        "Let's use a Classification Cross-Entropy loss and SGD with momentum.\n",
        "\n"
      ]
    },
    {
      "cell_type": "code",
      "metadata": {
        "id": "M4xBbDROpoCv",
        "colab_type": "code",
        "colab": {}
      },
      "source": [
        "import torch.optim as optim\n",
        "\n",
        "criterion = nn.CrossEntropyLoss()\n",
        "optimizer = optim.SGD(model.parameters(), lr=0.001, momentum=0.9)"
      ],
      "execution_count": 0,
      "outputs": []
    },
    {
      "cell_type": "code",
      "metadata": {
        "id": "7SsIYnyWVWyl",
        "colab_type": "code",
        "colab": {}
      },
      "source": [
        "your_module = drive.CreateFile({'id':'1OLPBiTGJOf67KXV2d0naHlPwi1Pf-XFH'})\n",
        "\n",
        "your_module.GetContentFile(\"Train_package_V4.py\")\n",
        "from Train_package_V4 import train\n",
        "\n"
      ],
      "execution_count": 0,
      "outputs": []
    },
    {
      "cell_type": "markdown",
      "metadata": {
        "id": "O-odOrhdpoC2",
        "colab_type": "text"
      },
      "source": [
        "4. Train the network\n",
        "^^^^^^^^^^^^^^^^^^^^\n",
        "\n",
        "This is when things start to get interesting.\n",
        "We simply have to loop over our data iterator, and feed the inputs to the\n",
        "network and optimize.\n",
        "\n"
      ]
    },
    {
      "cell_type": "code",
      "metadata": {
        "id": "kkuRfo1IpoC3",
        "colab_type": "code",
        "outputId": "74057137-3db0-41ce-c787-a0158781e56b",
        "colab": {
          "base_uri": "https://localhost:8080/",
          "height": 1000
        }
      },
      "source": [
        "epochs=25\n",
        "\n",
        "train(model,device,trainloader,epochs,optimizer,criterion)\n",
        "\n"
      ],
      "execution_count": 19,
      "outputs": [
        {
          "output_type": "stream",
          "text": [
            "[1,  2000] loss: 1.980\n",
            "[1,  4000] loss: 1.588\n",
            "[1,  6000] loss: 1.392\n",
            "[1,  8000] loss: 1.247\n",
            "[1, 10000] loss: 1.115\n",
            "[1, 12000] loss: 1.057\n",
            "[2,  2000] loss: 0.921\n",
            "[2,  4000] loss: 0.879\n",
            "[2,  6000] loss: 0.844\n",
            "[2,  8000] loss: 0.785\n",
            "[2, 10000] loss: 0.772\n",
            "[2, 12000] loss: 0.729\n",
            "[3,  2000] loss: 0.618\n",
            "[3,  4000] loss: 0.609\n",
            "[3,  6000] loss: 0.630\n",
            "[3,  8000] loss: 0.623\n",
            "[3, 10000] loss: 0.580\n",
            "[3, 12000] loss: 0.593\n",
            "[4,  2000] loss: 0.455\n",
            "[4,  4000] loss: 0.473\n",
            "[4,  6000] loss: 0.471\n",
            "[4,  8000] loss: 0.463\n",
            "[4, 10000] loss: 0.451\n",
            "[4, 12000] loss: 0.459\n",
            "[5,  2000] loss: 0.323\n",
            "[5,  4000] loss: 0.348\n",
            "[5,  6000] loss: 0.361\n",
            "[5,  8000] loss: 0.372\n",
            "[5, 10000] loss: 0.364\n",
            "[5, 12000] loss: 0.365\n",
            "[6,  2000] loss: 0.238\n",
            "[6,  4000] loss: 0.239\n",
            "[6,  6000] loss: 0.263\n",
            "[6,  8000] loss: 0.278\n",
            "[6, 10000] loss: 0.268\n",
            "[6, 12000] loss: 0.276\n",
            "[7,  2000] loss: 0.157\n",
            "[7,  4000] loss: 0.180\n",
            "[7,  6000] loss: 0.181\n",
            "[7,  8000] loss: 0.190\n",
            "[7, 10000] loss: 0.203\n",
            "[7, 12000] loss: 0.208\n",
            "[8,  2000] loss: 0.113\n",
            "[8,  4000] loss: 0.124\n",
            "[8,  6000] loss: 0.119\n",
            "[8,  8000] loss: 0.143\n",
            "[8, 10000] loss: 0.153\n",
            "[8, 12000] loss: 0.132\n",
            "[9,  2000] loss: 0.082\n",
            "[9,  4000] loss: 0.073\n",
            "[9,  6000] loss: 0.090\n",
            "[9,  8000] loss: 0.100\n",
            "[9, 10000] loss: 0.093\n",
            "[9, 12000] loss: 0.100\n",
            "[10,  2000] loss: 0.057\n",
            "[10,  4000] loss: 0.050\n",
            "[10,  6000] loss: 0.060\n",
            "[10,  8000] loss: 0.065\n",
            "[10, 10000] loss: 0.075\n",
            "[10, 12000] loss: 0.075\n",
            "[11,  2000] loss: 0.041\n",
            "[11,  4000] loss: 0.042\n",
            "[11,  6000] loss: 0.050\n",
            "[11,  8000] loss: 0.046\n",
            "[11, 10000] loss: 0.054\n",
            "[11, 12000] loss: 0.062\n",
            "[12,  2000] loss: 0.040\n",
            "[12,  4000] loss: 0.031\n",
            "[12,  6000] loss: 0.030\n",
            "[12,  8000] loss: 0.034\n",
            "[12, 10000] loss: 0.036\n",
            "[12, 12000] loss: 0.041\n",
            "[13,  2000] loss: 0.023\n",
            "[13,  4000] loss: 0.019\n",
            "[13,  6000] loss: 0.019\n",
            "[13,  8000] loss: 0.023\n",
            "[13, 10000] loss: 0.022\n",
            "[13, 12000] loss: 0.024\n",
            "[14,  2000] loss: 0.014\n",
            "[14,  4000] loss: 0.015\n",
            "[14,  6000] loss: 0.018\n",
            "[14,  8000] loss: 0.016\n",
            "[14, 10000] loss: 0.021\n",
            "[14, 12000] loss: 0.024\n",
            "[15,  2000] loss: 0.016\n",
            "[15,  4000] loss: 0.013\n",
            "[15,  6000] loss: 0.014\n",
            "[15,  8000] loss: 0.018\n",
            "[15, 10000] loss: 0.017\n",
            "[15, 12000] loss: 0.020\n",
            "[16,  2000] loss: 0.011\n",
            "[16,  4000] loss: 0.013\n",
            "[16,  6000] loss: 0.015\n",
            "[16,  8000] loss: 0.013\n",
            "[16, 10000] loss: 0.013\n",
            "[16, 12000] loss: 0.011\n",
            "[17,  2000] loss: 0.009\n",
            "[17,  4000] loss: 0.009\n",
            "[17,  6000] loss: 0.006\n",
            "[17,  8000] loss: 0.009\n",
            "[17, 10000] loss: 0.012\n",
            "[17, 12000] loss: 0.012\n",
            "[18,  2000] loss: 0.006\n",
            "[18,  4000] loss: 0.006\n",
            "[18,  6000] loss: 0.005\n",
            "[18,  8000] loss: 0.008\n",
            "[18, 10000] loss: 0.008\n",
            "[18, 12000] loss: 0.008\n",
            "[19,  2000] loss: 0.006\n",
            "[19,  4000] loss: 0.006\n",
            "[19,  6000] loss: 0.007\n",
            "[19,  8000] loss: 0.006\n",
            "[19, 10000] loss: 0.004\n",
            "[19, 12000] loss: 0.007\n",
            "[20,  2000] loss: 0.007\n",
            "[20,  4000] loss: 0.009\n",
            "[20,  6000] loss: 0.007\n",
            "[20,  8000] loss: 0.005\n",
            "[20, 10000] loss: 0.005\n",
            "[20, 12000] loss: 0.004\n",
            "[21,  2000] loss: 0.003\n",
            "[21,  4000] loss: 0.002\n",
            "[21,  6000] loss: 0.002\n",
            "[21,  8000] loss: 0.004\n",
            "[21, 10000] loss: 0.002\n",
            "[21, 12000] loss: 0.002\n",
            "[22,  2000] loss: 0.002\n",
            "[22,  4000] loss: 0.002\n",
            "[22,  6000] loss: 0.001\n",
            "[22,  8000] loss: 0.002\n",
            "[22, 10000] loss: 0.002\n",
            "[22, 12000] loss: 0.002\n",
            "[23,  2000] loss: 0.003\n",
            "[23,  4000] loss: 0.002\n",
            "[23,  6000] loss: 0.002\n",
            "[23,  8000] loss: 0.002\n",
            "[23, 10000] loss: 0.002\n",
            "[23, 12000] loss: 0.001\n",
            "[24,  2000] loss: 0.001\n",
            "[24,  4000] loss: 0.001\n",
            "[24,  6000] loss: 0.001\n",
            "[24,  8000] loss: 0.001\n",
            "[24, 10000] loss: 0.001\n",
            "[24, 12000] loss: 0.001\n",
            "[25,  2000] loss: 0.002\n",
            "[25,  4000] loss: 0.001\n",
            "[25,  6000] loss: 0.001\n",
            "[25,  8000] loss: 0.001\n",
            "[25, 10000] loss: 0.001\n",
            "[25, 12000] loss: 0.001\n",
            "Finished Training\n"
          ],
          "name": "stdout"
        }
      ]
    },
    {
      "cell_type": "markdown",
      "metadata": {
        "id": "YLrvL_fHpoC5",
        "colab_type": "text"
      },
      "source": [
        "5. Test the network on the test data\n",
        "^^^^^^^^^^^^^^^^^^^^^^^^^^^^^^^^^^^^\n",
        "\n",
        "We have trained the network for 2 passes over the training dataset.\n",
        "But we need to check if the network has learnt anything at all.\n",
        "\n",
        "We will check this by predicting the class label that the neural network\n",
        "outputs, and checking it against the ground-truth. If the prediction is\n",
        "correct, we add the sample to the list of correct predictions.\n",
        "\n",
        "Okay, first step. Let us display an image from the test set to get familiar.\n",
        "\n"
      ]
    },
    {
      "cell_type": "code",
      "metadata": {
        "id": "nizbsvw9poC6",
        "colab_type": "code",
        "outputId": "c9c38256-42f8-4fb9-fb9e-326d67f32862",
        "colab": {
          "base_uri": "https://localhost:8080/",
          "height": 155
        }
      },
      "source": [
        "dataiter = iter(testloader)\n",
        "images, labels = dataiter.next()\n",
        "\n",
        "# print images\n",
        "imshow(torchvision.utils.make_grid(images))\n",
        "print('GroundTruth: ', ' '.join('%5s' % classes[labels[j]] for j in range(4)))"
      ],
      "execution_count": 26,
      "outputs": [
        {
          "output_type": "stream",
          "text": [
            "GroundTruth:    cat  ship  ship plane\n"
          ],
          "name": "stdout"
        },
        {
          "output_type": "display_data",
          "data": {
            "image/png": "[encoded data removed]",
            "text/plain": [
              "<Figure size 432x288 with 1 Axes>"
            ]
          },
          "metadata": {
            "tags": [],
            "needs_background": "light"
          }
        }
      ]
    },
    {
      "cell_type": "markdown",
      "metadata": {
        "id": "DAx4QPHVpoC8",
        "colab_type": "text"
      },
      "source": [
        "Okay, now let us see what the neural network thinks these examples above are:\n",
        "\n"
      ]
    },
    {
      "cell_type": "code",
      "metadata": {
        "id": "HVLjlssWpoC9",
        "colab_type": "code",
        "colab": {}
      },
      "source": [
        "CPUmodel= Model_architecture_resnet.ResNet18()\n",
        "CPUmodel.load_state_dict(model.cpu().state_dict())\n",
        "\n",
        "\n",
        "outputs = CPUmodel(images)"
      ],
      "execution_count": 0,
      "outputs": []
    },
    {
      "cell_type": "markdown",
      "metadata": {
        "id": "u8OTHZEApoC_",
        "colab_type": "text"
      },
      "source": [
        "The outputs are energies for the 10 classes.\n",
        "Higher the energy for a class, the more the network\n",
        "thinks that the image is of the particular class.\n",
        "So, let's get the index of the highest energy:\n",
        "\n"
      ]
    },
    {
      "cell_type": "code",
      "metadata": {
        "id": "ABRIDW3lpoDA",
        "colab_type": "code",
        "outputId": "1dfaf264-56ef-4966-c86f-17cd50f130cc",
        "colab": {
          "base_uri": "https://localhost:8080/",
          "height": 34
        }
      },
      "source": [
        "_, predicted = torch.max(outputs, 1)\n",
        "\n",
        "print('Predicted: ', ' '.join('%5s' % classes[predicted[j]]\n",
        "                              for j in range(4)))"
      ],
      "execution_count": 29,
      "outputs": [
        {
          "output_type": "stream",
          "text": [
            "Predicted:    cat  ship  ship plane\n"
          ],
          "name": "stdout"
        }
      ]
    },
    {
      "cell_type": "markdown",
      "metadata": {
        "id": "2TV0TXL1poDC",
        "colab_type": "text"
      },
      "source": [
        "The results seem pretty good.\n",
        "\n",
        "Let us look at how the network performs on the whole dataset.\n",
        "\n"
      ]
    },
    {
      "cell_type": "code",
      "metadata": {
        "id": "SZ4-5CESpoDD",
        "colab_type": "code",
        "outputId": "9be071f4-4e7d-4e8d-a548-6ded07976ddd",
        "colab": {
          "base_uri": "https://localhost:8080/",
          "height": 34
        }
      },
      "source": [
        "correct = 0\n",
        "total = 0\n",
        "with torch.no_grad():\n",
        "    for data in testloader:\n",
        "        images, labels = data\n",
        "        outputs = CPUmodel(images)\n",
        "        _, predicted = torch.max(outputs.data, 1)\n",
        "        total += labels.size(0)\n",
        "        correct += (predicted == labels).sum().item()\n",
        "\n",
        "print('Accuracy of the network on the 10000 test images: %d %%' % (\n",
        "    100 * correct / total))"
      ],
      "execution_count": 30,
      "outputs": [
        {
          "output_type": "stream",
          "text": [
            "Accuracy of the network on the 10000 test images: 84 %\n"
          ],
          "name": "stdout"
        }
      ]
    },
    {
      "cell_type": "code",
      "metadata": {
        "id": "a_w7-v9Sfn3Q",
        "colab_type": "code",
        "colab": {}
      },
      "source": [
        ""
      ],
      "execution_count": 0,
      "outputs": []
    },
    {
      "cell_type": "code",
      "metadata": {
        "id": "_1rwfO6vfn_r",
        "colab_type": "code",
        "colab": {}
      },
      "source": [
        "your_module = drive.CreateFile({'id':'1wIozhmRFzWxdnfT29yfs3yLXYd51qJxM'})\n",
        "\n",
        "your_module.GetContentFile(\"Accuracy_cal_package_V2.py\")\n",
        "from Accuracy_cal_package_V2 import Accuracy_calculation"
      ],
      "execution_count": 0,
      "outputs": []
    },
    {
      "cell_type": "markdown",
      "metadata": {
        "id": "eDdwPBl8poDF",
        "colab_type": "text"
      },
      "source": [
        "That looks waaay better than chance, which is 10% accuracy (randomly picking\n",
        "a class out of 10 classes).\n",
        "Seems like the network learnt something.\n",
        "\n",
        "Hmmm, what are the classes that performed well, and the classes that did\n",
        "not perform well:\n",
        "\n"
      ]
    },
    {
      "cell_type": "code",
      "metadata": {
        "id": "pDNFuDEDpoDG",
        "colab_type": "code",
        "outputId": "035ed9e1-8ce8-412e-db6b-511b431c266c",
        "colab": {
          "base_uri": "https://localhost:8080/",
          "height": 185
        }
      },
      "source": [
        "\n",
        "Accuracy_calculation(testloader,CPUmodel,classes)\n"
      ],
      "execution_count": 34,
      "outputs": [
        {
          "output_type": "stream",
          "text": [
            "Accuracy of plane : 88 %\n",
            "Accuracy of   car : 92 %\n",
            "Accuracy of  bird : 75 %\n",
            "Accuracy of   cat : 69 %\n",
            "Accuracy of  deer : 86 %\n",
            "Accuracy of   dog : 76 %\n",
            "Accuracy of  frog : 89 %\n",
            "Accuracy of horse : 89 %\n",
            "Accuracy of  ship : 91 %\n",
            "Accuracy of truck : 89 %\n"
          ],
          "name": "stdout"
        }
      ]
    },
    {
      "cell_type": "code",
      "metadata": {
        "id": "e0VSyzZOqP4Q",
        "colab_type": "code",
        "colab": {}
      },
      "source": [
        ""
      ],
      "execution_count": 0,
      "outputs": []
    },
    {
      "cell_type": "code",
      "metadata": {
        "id": "nqM3G_TlK71e",
        "colab_type": "code",
        "colab": {}
      },
      "source": [
        ""
      ],
      "execution_count": 0,
      "outputs": []
    }
  ]
}